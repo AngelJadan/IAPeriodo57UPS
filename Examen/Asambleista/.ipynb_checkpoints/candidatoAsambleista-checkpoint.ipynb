{
 "cells": [
  {
   "cell_type": "code",
   "execution_count": 3,
   "metadata": {},
   "outputs": [],
   "source": [
    "import requests\n",
    "from bs4 import BeautifulSoup\n",
    "import re\n",
    "import csv"
   ]
  },
  {
   "cell_type": "code",
   "execution_count": 6,
   "metadata": {},
   "outputs": [
    {
     "name": "stdout",
     "output_type": "stream",
     "text": [
      "https://www.eluniverso.com/noticias/2018/04/28/nota/6734811/bloques-piden-exfiscal-dar-lista-asambleistas-cobardes\n",
      "https://www.derecho.com/boe/candidaturas-presentadas-para-las-elecciones-al-congreso-de-los-diputados-y-al-senado-convocadas-por-real-decreto-5512019-de-24-de-septiembre-112481\n",
      "https://www.derecho.com/boe/candidaturas-proclamadas-para-las-elecciones-al-congreso-de-los-diputados-y-al-senado-convocadas-por-real-decreto-5512019-de-24-de-septiembre-113190\n",
      "https://www.estadiodeportivo.com/polideportivo/2014/10/27/repasa-clasificacion-completa-carrera-popular-casco-antiguo/31621.html\n",
      "https://www.levante-emv.com/deportes/2016/10/16/chaoui-landin-vencen-vii-volta-12326144.html\n",
      "https://www.levante-emv.com/carreras-populares/2016/01/10/comprueba-puesto-tiempo-10k-divina-12471966.html\n",
      "https://www.laopiniondemurcia.es/carreras-populares/2018/04/14/clasificaciones-ruta-fortalezas/913874.html\n",
      "https://www.levante-emv.com/carreras-populares/2015/08/23/comprueba-puesto-gran-fondo-siete-12535496.html\n",
      "https://www.sportcartagena.es/articulo/polideportivo/consulta-clasificaciones-viii-ruta/20170402091840054605.html\n",
      "https://www.levante-emv.com/carreras-populares/2016/01/31/comprueba-puesto-carrera-galapagos-12371934.html\n",
      "Archivo guardado\n",
      "https://www.estadiodeportivo.com/polideportivo/2014/03/30/repase-posicion-listado-completo-carrera-popular-nervion-san-pablo/22186.html\n",
      "https://www.estadiodeportivo.com/polideportivo/2013/10/28/listado-completo-carrera-popular-casco-antiguo/14081.html\n",
      "Archivo guardado\n"
     ]
    }
   ],
   "source": [
    "start_url = ['https://www.google.com/search?q=Juan+Cristobal+Lloret+Valdivieso&client=opera-gx&sxsrf=ALeKk01v5ZkhcF5Qa9-if9xu7dKafPl_Hg:1607584958950&source=lnms&tbm=nws&sa=X&ved=2ahUKEwiYoLLT8MLtAhUMn-AKHY9cBdUQ_AUoA3oECAQQBQ&biw=529&bih=579',\n",
    "             'https://www.google.com/search?q=Juan+Cristobal+Lloret+Valdivieso&client=opera-gx&tbm=nws&sxsrf=ALeKk03m2X06qkfIAt064ZbGGIixHyrnMw:1607585227518&ei=y83RX5mGH8K5gge3xbCQCA&start=10&sa=N&ved=0ahUKEwjZl7rT8cLtAhXCnOAKHbciDIIQ8tMDCIQB&biw=1239&bih=579&dpr=1.5'\n",
    "            ]\n",
    "#print(nurl)\n",
    "con=0\n",
    "for ur in start_url:\n",
    "    con=con+1\n",
    "    url = ur\n",
    "    respuesta = requests.get(\n",
    "        url,\n",
    "        headers = {\n",
    "            'User-Agent': 'Mozilla/5.0 (Windows NT 10.0; Win64; x64) AppleWebKit/537.36 (KHTML, like Gecko) Chrome/80.0.3987.163 Safari/537.36'\n",
    "        }\n",
    "    )\n",
    "    myData = []\n",
    "    contenido_web = BeautifulSoup(respuesta.text, 'lxml')\n",
    "    noticias = contenido_web.find('div', attrs={'class':'eqAnXb'})\n",
    "    lin = noticias.findChildren('div',attrs={'class':'dbsr'})\n",
    "    c=0\n",
    "    \n",
    "    for enlace in lin:\n",
    "        filas = []\n",
    "        c=c+1\n",
    "        enla=str(enlace.a.get('href'))\n",
    "        print(enla)\n",
    "        #print('Mensaje')\n",
    "        men = \"\"\n",
    "        sms1 = enlace.findChildren('div', attrs={'class':'yJHHTd'})    \n",
    "        for message1 in sms1:\n",
    "            sms2 = message1.findChildren('div', attrs={'class':'Y3v8qd'})\n",
    "            men = str(sms2)    \n",
    "\n",
    "        #Para limpiar las etiquetas\n",
    "        cleantext = BeautifulSoup(men, \"lxml\").text\n",
    "        mens1 = cleantext.strip(\"[\").strip(\"]\")\n",
    "\n",
    "        #print(\"Fecha\")\n",
    "        fecha1=str(enlace.findChildren('span', attrs={'class':'WG9SHc'}))\n",
    "        fecclear = BeautifulSoup(fecha1, \"lxml\").text\n",
    "        #Variable de fecha\n",
    "        fecha2 = fecclear.strip(\"[\").strip(\"]\")\n",
    "        #print(fecha2)\n",
    "        filas.append(str(c))\n",
    "        filas.append(enla)\n",
    "        filas.append(mens1)\n",
    "        filas.append(fecha2)\n",
    "        myData.append(filas)\n",
    "        myFile = open('asambleista'+str(con)+str(c)+'.csv', 'w')\n",
    "        with myFile:\n",
    "            writer = csv.writer(myFile)\n",
    "            writer.writerows(myData)\n",
    "\n",
    "    print(\"Archivo guardado\")"
   ]
  },
  {
   "cell_type": "code",
   "execution_count": null,
   "metadata": {},
   "outputs": [],
   "source": []
  }
 ],
 "metadata": {
  "kernelspec": {
   "display_name": "Python 3",
   "language": "python",
   "name": "python3"
  },
  "language_info": {
   "codemirror_mode": {
    "name": "ipython",
    "version": 3
   },
   "file_extension": ".py",
   "mimetype": "text/x-python",
   "name": "python",
   "nbconvert_exporter": "python",
   "pygments_lexer": "ipython3",
   "version": "3.8.3"
  }
 },
 "nbformat": 4,
 "nbformat_minor": 4
}
