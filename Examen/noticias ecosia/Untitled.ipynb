{
 "cells": [
  {
   "cell_type": "code",
   "execution_count": 7,
   "metadata": {},
   "outputs": [],
   "source": [
    "import requests\n",
    "from bs4 import BeautifulSoup\n",
    "import re\n",
    "import csv"
   ]
  },
  {
   "cell_type": "code",
   "execution_count": 9,
   "metadata": {},
   "outputs": [
    {
     "name": "stdout",
     "output_type": "stream",
     "text": [
      "Item\n",
      "0\n",
      "Archivo guardado1\n",
      "Archivo guardado2\n",
      "Archivo guardado3\n",
      "Archivo guardado4\n",
      "Archivo guardado5\n",
      "Archivo guardado6\n",
      "Archivo guardado7\n",
      "Archivo guardado8\n",
      "Archivo guardado9\n",
      "Archivo guardado10\n",
      "Item\n",
      "1\n",
      "Archivo guardado1\n",
      "Archivo guardado2\n",
      "Archivo guardado3\n",
      "Archivo guardado4\n",
      "Item\n",
      "2\n",
      "Archivo guardado1\n",
      "Item\n",
      "3\n",
      "Archivo guardado1\n",
      "Archivo guardado2\n",
      "Archivo guardado3\n",
      "Archivo guardado4\n",
      "Item\n",
      "4\n",
      "Archivo guardado1\n",
      "Archivo guardado2\n",
      "Archivo guardado3\n",
      "Archivo guardado4\n",
      "Archivo guardado5\n"
     ]
    }
   ],
   "source": [
    "cont=0\n",
    "for i in range(5):\n",
    "    print('Item')\n",
    "    print(cont)\n",
    "    url = 'https://www.ecosia.org/news?q=Andres%20Arauz&p='+str(cont)\n",
    "    respuesta = requests.get(\n",
    "        url,\n",
    "        headers = {\n",
    "            'User-Agent': 'Mozilla/5.0 (Windows NT 10.0; Win64; x64) AppleWebKit/537.36 (KHTML, like Gecko) Chrome/80.0.3987.163 Safari/537.36'\n",
    "        }\n",
    "    )\n",
    "    myData = []\n",
    "    contenido_web = BeautifulSoup(respuesta.text, 'lxml')\n",
    "    noticias = contenido_web.find('div', attrs={'class':'layout'})\n",
    "    sections = noticias.findChildren('div', attrs={'class':'result__body'})\n",
    "    c=0\n",
    "    for section in sections:\n",
    "        fila = []\n",
    "        #print('Link:')\n",
    "        link = section.a.get('href')\n",
    "        #print(link)\n",
    "        fila.append(str(link))\n",
    "        hora = section.findChildren('time', attrs={'class':'news-result__date'})\n",
    "        fila.append(str(hora))\n",
    "        #print(\"Hora:\")\n",
    "        #print(hora)\n",
    "    \n",
    "        sms = section.findChildren('div', attrs={'class':'result__content-inner'})\n",
    "        fila.append(str(sms))\n",
    "        #print(\"Mensaje:\")\n",
    "        #print(sms)\n",
    "        #print('******')\n",
    "        c=c+1\n",
    "        myData.append(fila)\n",
    "        myFile = open('candPresEcosia'+str(cont)+str(c)+'.csv', 'w')\n",
    "        with myFile:\n",
    "            writer = csv.writer(myFile)\n",
    "            writer.writerows(myData)\n",
    "        print(\"Archivo guardado\"+str(c))\n",
    "    cont=cont+1"
   ]
  },
  {
   "cell_type": "code",
   "execution_count": null,
   "metadata": {},
   "outputs": [],
   "source": []
  }
 ],
 "metadata": {
  "kernelspec": {
   "display_name": "Python 3",
   "language": "python",
   "name": "python3"
  },
  "language_info": {
   "codemirror_mode": {
    "name": "ipython",
    "version": 3
   },
   "file_extension": ".py",
   "mimetype": "text/x-python",
   "name": "python",
   "nbconvert_exporter": "python",
   "pygments_lexer": "ipython3",
   "version": "3.8.3"
  }
 },
 "nbformat": 4,
 "nbformat_minor": 4
}
