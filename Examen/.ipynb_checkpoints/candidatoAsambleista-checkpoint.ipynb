{
 "cells": [
  {
   "cell_type": "code",
   "execution_count": 14,
   "metadata": {},
   "outputs": [],
   "source": [
    "import requests\n",
    "from bs4 import BeautifulSoup\n",
    "import re\n",
    "import csv"
   ]
  },
  {
   "cell_type": "code",
   "execution_count": 19,
   "metadata": {},
   "outputs": [
    {
     "name": "stdout",
     "output_type": "stream",
     "text": [
      "1\n",
      "<class 'str'>\n",
      "Writing complete\n",
      "2\n",
      "<class 'str'>\n"
     ]
    },
    {
     "ename": "AttributeError",
     "evalue": "'NoneType' object has no attribute 'findChildren'",
     "output_type": "error",
     "traceback": [
      "\u001b[1;31m---------------------------------------------------------------------------\u001b[0m",
      "\u001b[1;31mAttributeError\u001b[0m                            Traceback (most recent call last)",
      "\u001b[1;32m<ipython-input-19-0aa43c716c5b>\u001b[0m in \u001b[0;36m<module>\u001b[1;34m\u001b[0m\n\u001b[0;32m     19\u001b[0m     \u001b[0mcontenido_web\u001b[0m \u001b[1;33m=\u001b[0m \u001b[0mBeautifulSoup\u001b[0m\u001b[1;33m(\u001b[0m\u001b[0mrespuesta\u001b[0m\u001b[1;33m.\u001b[0m\u001b[0mtext\u001b[0m\u001b[1;33m,\u001b[0m \u001b[1;34m'lxml'\u001b[0m\u001b[1;33m)\u001b[0m\u001b[1;33m\u001b[0m\u001b[1;33m\u001b[0m\u001b[0m\n\u001b[0;32m     20\u001b[0m     \u001b[0mnoticias\u001b[0m \u001b[1;33m=\u001b[0m \u001b[0mcontenido_web\u001b[0m\u001b[1;33m.\u001b[0m\u001b[0mfind\u001b[0m\u001b[1;33m(\u001b[0m\u001b[1;34m'div'\u001b[0m\u001b[1;33m,\u001b[0m \u001b[0mattrs\u001b[0m\u001b[1;33m=\u001b[0m\u001b[1;33m{\u001b[0m\u001b[1;34m'class'\u001b[0m\u001b[1;33m:\u001b[0m\u001b[1;34m'eqAnXb'\u001b[0m\u001b[1;33m}\u001b[0m\u001b[1;33m)\u001b[0m\u001b[1;33m\u001b[0m\u001b[1;33m\u001b[0m\u001b[0m\n\u001b[1;32m---> 21\u001b[1;33m     \u001b[0mlin\u001b[0m \u001b[1;33m=\u001b[0m \u001b[0mnoticias\u001b[0m\u001b[1;33m.\u001b[0m\u001b[0mfindChildren\u001b[0m\u001b[1;33m(\u001b[0m\u001b[1;34m'div'\u001b[0m\u001b[1;33m,\u001b[0m\u001b[0mattrs\u001b[0m\u001b[1;33m=\u001b[0m\u001b[1;33m{\u001b[0m\u001b[1;34m'class'\u001b[0m\u001b[1;33m:\u001b[0m\u001b[1;34m'dbsr'\u001b[0m\u001b[1;33m}\u001b[0m\u001b[1;33m)\u001b[0m\u001b[1;33m\u001b[0m\u001b[1;33m\u001b[0m\u001b[0m\n\u001b[0m\u001b[0;32m     22\u001b[0m     \u001b[0mc\u001b[0m\u001b[1;33m=\u001b[0m\u001b[1;36m0\u001b[0m\u001b[1;33m\u001b[0m\u001b[1;33m\u001b[0m\u001b[0m\n\u001b[0;32m     23\u001b[0m \u001b[1;33m\u001b[0m\u001b[0m\n",
      "\u001b[1;31mAttributeError\u001b[0m: 'NoneType' object has no attribute 'findChildren'"
     ]
    }
   ],
   "source": [
    "start_url = ['https://www.google.com/search?q=Juan+Cristobal+Lloret+Valdivieso&client=opera-gx&hs=Uay&sxsrf=ALeKk01nfjLg-V4g1UBokdCtEqVtF4ZJ4g:1607582789618&ei=RcTRX_WkJcTm_QbYrYmgCw&start=0&sa=N&ved=2ahUKEwi12_zI6MLtAhVEc98KHdhWArQ4ChDy0wN6BAgEEDk&biw=1239&bih=579',\n",
    "             'https://www.google.com/search?q=Juan+Cristobal+Lloret+Valdivieso&client=opera-gx&hs=Iby&sxsrf=ALeKk01b7xfLSYYa1qYtJlaCf9ta7wT3HQ:1607582839715&ei=d8TRX_GLK6qd_QbM8Kq4DQ&start=10&sa=N&ved=2ahUKEwixo-7g6MLtAhWqTt8KHUy4CtcQ8tMDegQIBBA6&biw=1239&bih=579'\n",
    "            ]\n",
    "#print(nurl)\n",
    "con=0\n",
    "for ur in start_url:\n",
    "    con=con+1\n",
    "    print(con)\n",
    "    #print(url)\n",
    "    url = ur\n",
    "    respuesta = requests.get(\n",
    "        url,\n",
    "        headers = {\n",
    "            'User-Agent': 'Mozilla/5.0 (Windows NT 10.0; Win64; x64) AppleWebKit/537.36 (KHTML, like Gecko) Chrome/80.0.3987.163 Safari/537.36'\n",
    "        }\n",
    "    )\n",
    "    print(type(url))\n",
    "    myData = []\n",
    "    contenido_web = BeautifulSoup(respuesta.text, 'lxml')\n",
    "    noticias = contenido_web.find('div', attrs={'class':'eqAnXb'})\n",
    "    lin = noticias.findChildren('div',attrs={'class':'dbsr'})\n",
    "    c=0\n",
    "\n",
    "    for enlace in lin:\n",
    "        print('into')\n",
    "        filas = []\n",
    "        c=c+1\n",
    "        #filas.append(c)\n",
    "        print(c)\n",
    "        print('Enlace')\n",
    "        enla=str(enlace.a.get('href'))\n",
    "        print(enla)\n",
    "        #print('Mensaje')\n",
    "        men = \"\"\n",
    "        sms1 = enlace.findChildren('div', attrs={'class':'yJHHTd'})    \n",
    "        for message1 in sms1:\n",
    "            sms2 = message1.findChildren('div', attrs={'class':'Y3v8qd'})\n",
    "            men = str(sms2)    \n",
    "\n",
    "        #Para limpiar las etiquetas\n",
    "        cleantext = BeautifulSoup(men, \"lxml\").text\n",
    "        mens1 = cleantext.strip(\"[\").strip(\"]\")\n",
    "        #print(mens1)\n",
    "        #filas.append(mens1)\n",
    "\n",
    "        #print(\"Fecha\")\n",
    "        fecha1=str(enlace.findChildren('span', attrs={'class':'WG9SHc'}))\n",
    "        fecclear = BeautifulSoup(fecha1, \"lxml\").text\n",
    "        #Variable de fecha\n",
    "        fecha2 = fecclear.strip(\"[\").strip(\"]\")\n",
    "        #print(fecha2)\n",
    "        filas.append(str(c))\n",
    "        filas.append(enla)\n",
    "        filas.append(mens1)\n",
    "        filas.append(fecha2)\n",
    "        #contenido_web = BeautifulSoup(respuesta.text, 'lxml')\n",
    "        #print(\"**********************\")\n",
    "        myData.append(filas)\n",
    "    myFile = open('datos'+str(con)+'.csv', 'w')\n",
    "    with myFile:\n",
    "        writer = csv.writer(myFile)\n",
    "        writer.writerows(myData)\n",
    "\n",
    "    print(\"Writing complete\")"
   ]
  },
  {
   "cell_type": "code",
   "execution_count": null,
   "metadata": {},
   "outputs": [],
   "source": []
  }
 ],
 "metadata": {
  "kernelspec": {
   "display_name": "Python 3",
   "language": "python",
   "name": "python3"
  },
  "language_info": {
   "codemirror_mode": {
    "name": "ipython",
    "version": 3
   },
   "file_extension": ".py",
   "mimetype": "text/x-python",
   "name": "python",
   "nbconvert_exporter": "python",
   "pygments_lexer": "ipython3",
   "version": "3.8.3"
  }
 },
 "nbformat": 4,
 "nbformat_minor": 4
}
