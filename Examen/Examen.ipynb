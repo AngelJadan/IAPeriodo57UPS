{
 "cells": [
  {
   "cell_type": "code",
   "execution_count": 69,
   "metadata": {},
   "outputs": [
    {
     "data": {
      "text/plain": [
       "'import facebook\\nimport json\\n\\ngraph = facebook.GraphAPI(access_token=\"EAACXCWi2iZB0BACR9Uk8ntnJJe7VZB5xCYSzZBHzz03wdpj4fYPZAM2eiyYQ2ynZAP0hWzRa3FwUSDyM5vfEw5ZBuZA9BTsixbKSE8xW1JNJiHjUW2XkV9h6q2UVnLulruiCDQd7BOeDN7AQZCFKZCeae0cTE0oohepnEEXrVGNcNPgNEqtfrfa73dy5hIPbh7rQL9wJAlUNgcj14RaadocVpB4ZBIZCYUO5ygZD\", version=\"2.12\")\\n'"
      ]
     },
     "execution_count": 69,
     "metadata": {},
     "output_type": "execute_result"
    }
   ],
   "source": [
    "'''import facebook\n",
    "import json\n",
    "\n",
    "graph = facebook.GraphAPI(access_token=\"EAACXCWi2iZB0BACR9Uk8ntnJJe7VZB5xCYSzZBHzz03wdpj4fYPZAM2eiyYQ2ynZAP0hWzRa3FwUSDyM5vfEw5ZBuZA9BTsixbKSE8xW1JNJiHjUW2XkV9h6q2UVnLulruiCDQd7BOeDN7AQZCFKZCeae0cTE0oohepnEEXrVGNcNPgNEqtfrfa73dy5hIPbh7rQL9wJAlUNgcj14RaadocVpB4ZBIZCYUO5ygZD\", version=\"2.12\")\n",
    "'''"
   ]
  },
  {
   "cell_type": "code",
   "execution_count": 70,
   "metadata": {},
   "outputs": [],
   "source": [
    "#page = graph.get_object(\"me\")\n",
    "#print(page)"
   ]
  },
  {
   "cell_type": "code",
   "execution_count": 25,
   "metadata": {},
   "outputs": [
    {
     "name": "stdout",
     "output_type": "stream",
     "text": [
      "1\n",
      "https://www.google.com/search?q=Juan+Cristobal+Lloret+Valdivieso&client=opera-gx&hs=Uay&sxsrf=ALeKk01nfjLg-V4g1UBokdCtEqVtF4ZJ4g:1607582789618&ei=RcTRX_WkJcTm_QbYrYmgCw&start=0&sa=N&ved=2ahUKEwi12_zI6MLtAhVEc98KHdhWArQ4ChDy0wN6BAgEEDk&biw=1239&bih=579\n",
      "2\n",
      "https://www.google.com/search?q=Juan+Cristobal+Lloret+Valdivieso&client=opera-gx&hs=Iby&sxsrf=ALeKk01b7xfLSYYa1qYtJlaCf9ta7wT3HQ:1607582839715&ei=d8TRX_GLK6qd_QbM8Kq4DQ&start=10&sa=N&ved=2ahUKEwixo-7g6MLtAhWqTt8KHUy4CtcQ8tMDegQIBBA6&biw=1239&bih=579\n"
     ]
    }
   ],
   "source": [
    "#friends = graph.get_connections(id='me', connection_name='friends')\n",
    "\n",
    "start_url = ['https://www.google.com/search?q=Juan+Cristobal+Lloret+Valdivieso&client=opera-gx&hs=Uay&sxsrf=ALeKk01nfjLg-V4g1UBokdCtEqVtF4ZJ4g:1607582789618&ei=RcTRX_WkJcTm_QbYrYmgCw&start=0&sa=N&ved=2ahUKEwi12_zI6MLtAhVEc98KHdhWArQ4ChDy0wN6BAgEEDk&biw=1239&bih=579',\n",
    "             'https://www.google.com/search?q=Juan+Cristobal+Lloret+Valdivieso&client=opera-gx&hs=Iby&sxsrf=ALeKk01b7xfLSYYa1qYtJlaCf9ta7wT3HQ:1607582839715&ei=d8TRX_GLK6qd_QbM8Kq4DQ&start=10&sa=N&ved=2ahUKEwixo-7g6MLtAhWqTt8KHUy4CtcQ8tMDegQIBBA6&biw=1239&bih=579'\n",
    "            ]\n",
    "'https://www.google.com/search?q=Juan+Cristobal+Lloret+Valdivieso&client=opera-gx&hs=Iby&sxsrf=ALeKk01b7xfLSYYa1qYtJlaCf9ta7wT3HQ:1607582839715&ei=d8TRX_GLK6qd_QbM8Kq4DQ&start=10&sa=N&ved=2ahUKEwixo-7g6MLtAhWqTt8KHUy4CtcQ8tMDegQIBBA6&biw=1239&bih=579'\n",
    "domain = 'www.google.com'\n",
    "nurl = len(start_url)\n",
    "#print(nurl)\n",
    "con=0\n",
    "for url in start_url:\n",
    "    con=con+1\n",
    "    print(con)\n",
    "    print(url)"
   ]
  },
  {
   "cell_type": "code",
   "execution_count": 12,
   "metadata": {},
   "outputs": [],
   "source": [
    "\n",
    "import requests\n",
    "from bs4 import BeautifulSoup\n",
    "import re\n",
    "\n",
    "url = 'https://www.google.com/search?q=Juan+Cristobal+Lloret+Valdivieso&sxsrf=ALeKk01ohWx8VJ04KQ7iYyF_A4HtE-1-rA:1607550458213&source=lnms&tbm=nws&sa=X&ved=2ahUKEwjsrJSQ8MHtAhXEY98KHb7pDqAQ_AUoA3oECAQQBQ&biw=1239&bih=579'\n",
    "respuesta = requests.get(\n",
    "    url,\n",
    "    headers = {\n",
    "        'User-Agent': 'Mozilla/5.0 (Windows NT 10.0; Win64; x64) AppleWebKit/537.36 (KHTML, like Gecko) Chrome/80.0.3987.163 Safari/537.36'\n",
    "    }\n",
    ")"
   ]
  },
  {
   "cell_type": "code",
   "execution_count": 8,
   "metadata": {},
   "outputs": [],
   "source": [
    "\n",
    "myData = []\n",
    "contenido_web = BeautifulSoup(respuesta.text, 'lxml')\n",
    "noticias = contenido_web.find('div', attrs={'class':'eqAnXb'})\n",
    "lin = noticias.findChildren('div',attrs={'class':'dbsr'})\n",
    "c=0\n",
    "\n",
    "for enlace in lin:\n",
    "    filas = []\n",
    "    c=c+1\n",
    "    #filas.append(c)\n",
    "    #print(c)\n",
    "    #print('Enlace')\n",
    "    enla=str(enlace.a.get('href'))\n",
    "    #print(enla)\n",
    "    #print('Mensaje')\n",
    "    men = \"\"\n",
    "    sms1 = enlace.findChildren('div', attrs={'class':'yJHHTd'})    \n",
    "    for message1 in sms1:\n",
    "        sms2 = message1.findChildren('div', attrs={'class':'Y3v8qd'})\n",
    "        men = str(sms2)    \n",
    "       \n",
    "    #Para limpiar las etiquetas\n",
    "    cleantext = BeautifulSoup(men, \"lxml\").text\n",
    "    mens1 = cleantext.strip(\"[\").strip(\"]\")\n",
    "    #print(mens1)\n",
    "    #filas.append(mens1)\n",
    "    \n",
    "    #print(\"Fecha\")\n",
    "    fecha1=str(enlace.findChildren('span', attrs={'class':'WG9SHc'}))\n",
    "    fecclear = BeautifulSoup(fecha1, \"lxml\").text\n",
    "    #Variable de fecha\n",
    "    fecha2 = fecclear.strip(\"[\").strip(\"]\")\n",
    "    #print(fecha2)\n",
    "    filas.append(str(c))\n",
    "    filas.append(enla)\n",
    "    filas.append(mens1)\n",
    "    filas.append(fecha2)\n",
    "    #contenido_web = BeautifulSoup(respuesta.text, 'lxml')\n",
    "    #print(\"**********************\")\n",
    "    myData.append(filas)"
   ]
  },
  {
   "cell_type": "code",
   "execution_count": 9,
   "metadata": {},
   "outputs": [
    {
     "name": "stdout",
     "output_type": "stream",
     "text": [
      "Writing complete\n"
     ]
    }
   ],
   "source": [
    "import csv\n",
    " \n",
    "'''myData = [[\"Link\", \"Mensaje\", \"Fecha\"],\n",
    "          ['Alex', 'Brian', 'A'],\n",
    "          ['Tom', 'Smith', 'B']]\n",
    "'''\n",
    "myFile = open('example2.csv', 'w')\n",
    "with myFile:\n",
    "    writer = csv.writer(myFile)\n",
    "    writer.writerows(myData)\n",
    "     \n",
    "print(\"Writing complete\")"
   ]
  },
  {
   "cell_type": "code",
   "execution_count": null,
   "metadata": {},
   "outputs": [],
   "source": []
  }
 ],
 "metadata": {
  "kernelspec": {
   "display_name": "Python 3",
   "language": "python",
   "name": "python3"
  },
  "language_info": {
   "codemirror_mode": {
    "name": "ipython",
    "version": 3
   },
   "file_extension": ".py",
   "mimetype": "text/x-python",
   "name": "python",
   "nbconvert_exporter": "python",
   "pygments_lexer": "ipython3",
   "version": "3.8.3"
  }
 },
 "nbformat": 4,
 "nbformat_minor": 4
}
