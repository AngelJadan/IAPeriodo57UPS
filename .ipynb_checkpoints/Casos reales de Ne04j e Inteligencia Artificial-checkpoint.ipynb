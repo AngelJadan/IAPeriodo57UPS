{
 "cells": [
  {
   "cell_type": "markdown",
   "metadata": {},
   "source": [
    "## Caso de exito de neo4j con inteligencia artificial\n"
   ]
  },
  {
   "cell_type": "markdown",
   "metadata": {},
   "source": [
    "#### Detección de estafas telefonica.\n",
    "En el 2019, en la conferencia Spark + AI, celebrada en Amsterdam, realizarón una demostración de como trabajarón\n",
    "para detectar estafas mediante llamadas telefonicas, esto con el uso de grafos de llamadas.\n",
    "\n",
    "\"La base de datos de gráficos de enlaces profundos escalables en tiempo real con análisis de gráficos y predicciones para una amplia gama de casos de uso de Machine Learning\".\n",
    "\n",
    "En China Mobile detectan y previenen las estafas mediante el uso de lineas telefonicas, con el uso de la Inteligencia Artificial\n",
    "mediante el aprendizaje automático con TigerGraph.\n",
    "\n",
    "La solución genera 118 funciones gráficas para 600 millones de usuarios para que el sistema pueda aprender automaticamente \n",
    "\n",
    "\n",
    "###### Fuente:\n",
    "* BBVA: https://www.bbvadata.com/es/what-we-saw-in-graph-analytics-in-2019/\n",
    "* Databricks.com: https://databricks.com/session_eu19/real-time-fraud-detection-at-scale-integrating-real-time-deep-link-graph-analytics-with-spark-ai\n",
    "\n",
    "#### Uso de neo4j en la NASA.\n",
    "La Nasa nos indica en la pagina propia de Neo4j, nos indica que existen problemas no solo en las base de datos estructuradas, pues tambien existen problemas en la no estructurasa, esto para unir los nodos, es ahi donde nos dicen que Neo4j utilizan para conectar esa información.\n",
    "\n",
    "###### Fuente:\n",
    "* Neo4j: https://neo4j.com/users/nasa/\n",
    "\n"
   ]
  }
 ],
 "metadata": {
  "kernelspec": {
   "display_name": "Python 3",
   "language": "python",
   "name": "python3"
  },
  "language_info": {
   "codemirror_mode": {
    "name": "ipython",
    "version": 3
   },
   "file_extension": ".py",
   "mimetype": "text/x-python",
   "name": "python",
   "nbconvert_exporter": "python",
   "pygments_lexer": "ipython3",
   "version": "3.8.3"
  }
 },
 "nbformat": 4,
 "nbformat_minor": 4
}
