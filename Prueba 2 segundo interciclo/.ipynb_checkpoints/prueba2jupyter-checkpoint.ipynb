{
 "cells": [
  {
   "cell_type": "markdown",
   "metadata": {},
   "source": [
    "## Programación de algoritmos con conexión a neo4j.\n",
    "#### Nombre: Angel Jadan\n",
    "##### Fecha: 31/01/2021"
   ]
  },
  {
   "cell_type": "code",
   "execution_count": 90,
   "metadata": {},
   "outputs": [],
   "source": [
    "from neo4j import GraphDatabase\n",
    "\n",
    "driver = GraphDatabase.driver(uri, auth=('neo4j', 'pass'))\n",
    "session = driver.session(database=\"system\")\n",
    "session = driver.session()\n",
    "\n",
    "'''Algoritmo A*'''\n",
    "def algaestrella(lugar):\n",
    "    result = session.run(\"\"\"CALL gds.alpha.allShortestPaths.stream({\n",
    "  nodeProjection: '\"\"\"+lugar+\"\"\"',\n",
    "  relationshipProjection: {\n",
    "    ROAD: {\n",
    "      type: 'DISTANCIA',\n",
    "      properties: 'distancia'\n",
    "    }\n",
    "  },\n",
    "  relationshipWeightProperty: 'distancia'\n",
    "})\n",
    "YIELD sourceNodeId, targetNodeId, distance\n",
    "WITH sourceNodeId, targetNodeId, distance\n",
    "WHERE gds.util.isFinite(distance) = true\n",
    "\n",
    "MATCH (source:\"\"\"+lugar+\"\"\") WHERE id(source) = sourceNodeId\n",
    "MATCH (target:\"\"\"+lugar+\"\"\") WHERE id(target) = targetNodeId\n",
    "WITH source, target, distance WHERE source <> target\n",
    "\n",
    "RETURN source.name AS source, target.name AS target, distance\n",
    "ORDER BY distance DESC, source ASC, target ASC\n",
    "LIMIT 10\"\"\")\n",
    "    #print(result)\n",
    "    for record in result:\n",
    "        print(\"Origen => \"+record[\"source\"]+\" | Destino => \"+record[\"target\"]+\" | Distancia=> \"+str(record[\"distance\"]))\n",
    "\n",
    "    #names = [record[\"source\"] for record in result]\n",
    "\n",
    "    #print(names)\n",
    "    session.close()\n",
    "    driver.close()\n",
    "    \n",
    "'''Algoritmo de la ruta mas corta'''\n",
    "def rutamascorta(origen, destino):\n",
    "    result = session.run(\"\"\"MATCH (start:Lugar {name: '\"\"\"+origen+\"\"\"'}), (end:Lugar {name: '\"\"\"+destino+\"\"\"'})\n",
    "    CALL gds.alpha.shortestPath.stream({\n",
    "      nodeProjection: 'Lugar',\n",
    "      relationshipProjection: {\n",
    "        ROAD: {\n",
    "          type: 'DISTANCIA',\n",
    "          properties: 'distancia',\n",
    "          orientation: 'UNDIRECTED'\n",
    "        }\n",
    "      },\n",
    "      startNode: start,\n",
    "      endNode: end,\n",
    "      relationshipWeightProperty: 'distancia'\n",
    "    })\n",
    "    YIELD nodeId, cost\n",
    "    RETURN gds.util.asNode(nodeId).name AS name, cost\"\"\")\n",
    "    #print(result)\n",
    "    for record in result:\n",
    "        print(\"Origen => \"+record[\"name\"]+\" | Costo => \"+str(record[\"cost\"]))\n",
    "\n",
    "    #names = [record[\"source\"] for record in result]\n",
    "\n",
    "    #print(names)\n",
    "    session.close()\n",
    "    driver.close()\n",
    "    \n",
    "'''Funcion para crear el catalogo para correr algoritmos'''\n",
    "def crear_catalogo():\n",
    "    result = session.run(\"\"\"CALL gds.graph.create('myGraph', 'Lugar', 'DISTANCIA', { relationshipProperties: 'distancia' })\"\"\")    \n",
    "    \n",
    "    session.close()\n",
    "    driver.close()\n",
    "    \n",
    "'''Algoritmo de amplitud'''\n",
    "def algaplitud(nombreNodo,lugar):\n",
    "    result = session.run(\"\"\"MATCH (\"\"\"+nombreNodo+\"\"\":Lugar{name:'\"\"\"+lugar+\"\"\"'})\n",
    "WITH id(\"\"\"+nombreNodo+\"\"\") AS startNode\n",
    "CALL gds.alpha.bfs.stream('myGraph', {startNode: startNode})\n",
    "YIELD path\n",
    "UNWIND [ n in nodes(path) | n.name ] AS names\n",
    "RETURN names\n",
    "ORDER BY names\"\"\")\n",
    "    #print(result)\n",
    "    for record in result:\n",
    "        print(\"Ruta => \"+record[\"names\"])\n",
    "\n",
    "    #names = [record[\"source\"] for record in result]\n",
    "\n",
    "    #print(names)\n",
    "    session.close()\n",
    "    driver.close()\n",
    "    \n",
    "'''Algoritmo de profundidad'''\n",
    "def algprofundidad(nombreNodoOrigen,lugarOrigen,nombreNodoDestino, lugarDestino):\n",
    "    \n",
    "    result = session.run(\"\"\"MATCH (\"\"\"+nombreNodoOrigen+\"\"\":Lugar{name:'\"\"\"+lugarOrigen+\"\"\"'}),\n",
    "    (\"\"\"+nombreNodoDestino+\"\"\":Lugar{name:'\"\"\"+lugarDestino+\"\"\"'})\n",
    "WITH id(\"\"\"+nombreNodoOrigen+\"\"\") AS startNode, [id(\"\"\"+nombreNodoDestino+\"\"\")] AS targetNodes\n",
    "CALL gds.alpha.dfs.stream('myGraph', {startNode: startNode, targetNodes: targetNodes})\n",
    "YIELD path\n",
    "UNWIND [ n in nodes(path) | n.name ] AS names\n",
    "RETURN names\n",
    "ORDER BY names\"\"\")\n",
    "    #print(result)\n",
    "    for record in result:\n",
    "        print(\"Ruta => \"+record[\"names\"])\n",
    "\n",
    "    #names = [record[\"source\"] for record in result]\n",
    "\n",
    "    #print(names)\n",
    "    session.close()\n",
    "    driver.close()\n"
   ]
  },
  {
   "cell_type": "markdown",
   "metadata": {},
   "source": [
    "## Ejecucion de algoritmos, con ingresos de parametros\n",
    "### Algoritmo de A*"
   ]
  },
  {
   "cell_type": "code",
   "execution_count": 63,
   "metadata": {},
   "outputs": [
    {
     "name": "stdout",
     "output_type": "stream",
     "text": [
      "Origen => Parque San Jose | Destino => Pisicina Roquetas De Mar | Distancia=> 22.67\n",
      "Origen => El Shaddai Iglesia Cristiana | Destino => Iglesia Evangélica Apostólica del Nombre de Jesús | Distancia=> 22.130000000000003\n",
      "Origen => El Shaddai Iglesia Cristiana | Destino => Iglesia Católica Inmaculada Concepción | Distancia=> 21.940000000000005\n",
      "Origen => El Shaddai Iglesia Cristiana | Destino => Iglesia Evangélica Atrios de Alabanzas | Distancia=> 20.310000000000002\n",
      "Origen => Iglesia MDS Durán | Destino => Iglesia Evangélica Apostólica del Nombre de Jesús | Distancia=> 20.03\n",
      "Origen => El Shaddai Iglesia Cristiana | Destino => La Iglesia de Jesucristo SUD Capilla Ponton | Distancia=> 20.01\n",
      "Origen => Iglesia MDS Durán | Destino => Iglesia Católica Inmaculada Concepción | Distancia=> 19.840000000000003\n",
      "Origen => El Shaddai Iglesia Cristiana | Destino => Iglesia Evangelica \"La Resurreccion\" | Distancia=> 19.610000000000003\n",
      "Origen => Parque Primavera | Destino => Pisicina Roquetas De Mar | Distancia=> 19.43\n",
      "Origen => Piscina Aliss | Destino => Pisicina Roquetas De Mar | Distancia=> 19.04\n"
     ]
    }
   ],
   "source": [
    "algaestrella('Lugar')"
   ]
  },
  {
   "cell_type": "markdown",
   "metadata": {},
   "source": [
    "### Algoritmo de la ruta mas corta"
   ]
  },
  {
   "cell_type": "code",
   "execution_count": 64,
   "metadata": {},
   "outputs": [
    {
     "name": "stdout",
     "output_type": "stream",
     "text": [
      "Origen => Piscina Aliss | Costo => 0.0\n",
      "Origen => Iglesia MDS Durán | Costo => 3.46\n",
      "Origen => Estación de la aerovia Durán | Costo => 4.38\n",
      "Origen => Coop De Transporte PRESIDENTE Eloy Alfaro | Costo => 5.58\n"
     ]
    }
   ],
   "source": [
    "rutamascorta('Piscina Aliss','Coop De Transporte PRESIDENTE Eloy Alfaro')"
   ]
  },
  {
   "cell_type": "markdown",
   "metadata": {},
   "source": [
    "### creacion de catalogo para algoritmos"
   ]
  },
  {
   "cell_type": "code",
   "execution_count": 82,
   "metadata": {},
   "outputs": [],
   "source": [
    "crear_catalogo()"
   ]
  },
  {
   "cell_type": "markdown",
   "metadata": {},
   "source": [
    "### Algoritmo de amplitud"
   ]
  },
  {
   "cell_type": "code",
   "execution_count": 83,
   "metadata": {},
   "outputs": [
    {
     "name": "stdout",
     "output_type": "stream",
     "text": [
      "Ruta => AEROVÍA DURÁN\n",
      "Ruta => Areas verdes\n",
      "Ruta => Artes Graficas Senefelder\n",
      "Ruta => Asamblea de Iglesias Cristianas Central\n",
      "Ruta => COOPERATIVA DE TRANSPORTE RIRCAY\n",
      "Ruta => Canchas de Indor\n",
      "Ruta => Cantera cerro grande\n",
      "Ruta => Centro de Salud Tipo C El Recreo\n",
      "Ruta => Clinica Moreno\n",
      "Ruta => Concatedral Santuario Católico Divino Niño\n",
      "Ruta => Coop De Transporte PRESIDENTE Eloy Alfaro\n",
      "Ruta => Cooperativa De Transportes Ecuador\n",
      "Ruta => Cooperativas Mariscal Sucre Trans S.A.N.\n",
      "Ruta => El Shaddai Iglesia Cristiana\n",
      "Ruta => Estación de la aerovia Durán\n",
      "Ruta => Hospital General De 120 Camas - Durán\n",
      "Ruta => Hotel La Ría Durán\n",
      "Ruta => Iglesia Adventista Del 7mo Dia Los Helechos\n",
      "Ruta => Iglesia Católica Inmaculada Concepción\n",
      "Ruta => Iglesia Católica San Gabriel Arcángel - Durán\n",
      "Ruta => Iglesia Católica Santa María Reina de las Familias\n",
      "Ruta => Iglesia Evangelica \"La Resurreccion\"\n",
      "Ruta => Iglesia Evangélica Apostólica del Nombre de Jesús\n",
      "Ruta => Iglesia Evangélica Atrios de Alabanzas\n",
      "Ruta => Iglesia MDS Durán\n",
      "Ruta => Iglesia de dios duran\n",
      "Ruta => Iglesia duran\n",
      "Ruta => La Iglesia de Jesucristo SUD Capilla Ponton\n",
      "Ruta => Local Iglesia de Dios en Duran\n",
      "Ruta => Medigroup\n",
      "Ruta => Parque\n",
      "Ruta => Parque Acuatico Heroes Nacionales\n",
      "Ruta => Parque Colinas Del Valle\n",
      "Ruta => Parque De La 5ta Etapa\n",
      "Ruta => Parque Ecologico Duran\n",
      "Ruta => Parque Primavera\n",
      "Ruta => Parque Primavera 2\n",
      "Ruta => Parque San Jose\n",
      "Ruta => Parque a la Madre\n",
      "Ruta => Parque cdla. 16 de octubre\n",
      "Ruta => Parque cdla. Modular\n",
      "Ruta => Parque de la primavera 1\n",
      "Ruta => Parque recreacional Cdla. Rio Guayas\n",
      "Ruta => Parroquia 5 de Junio Durán\n",
      "Ruta => Parroquia Jesús del Gran Poder\n",
      "Ruta => Piscina Aliss\n",
      "Ruta => Pisicina Roquetas De Mar\n",
      "Ruta => Primer Parque 4ta Et. Recreo\n",
      "Ruta => Skate Municipal De Durán prima. 2\n",
      "Ruta => Terminal Terrestre de Durán \"Luis Rodas Toral\"\n"
     ]
    }
   ],
   "source": [
    "algaplitud('piscinaaliss','Piscina Aliss')"
   ]
  },
  {
   "cell_type": "markdown",
   "metadata": {},
   "source": [
    "### Algoritmo de profundidad"
   ]
  },
  {
   "cell_type": "code",
   "execution_count": 91,
   "metadata": {},
   "outputs": [
    {
     "name": "stdout",
     "output_type": "stream",
     "text": [
      "Ruta => AEROVÍA DURÁN\n",
      "Ruta => Coop De Transporte PRESIDENTE Eloy Alfaro\n",
      "Ruta => Estación de la aerovia Durán\n",
      "Ruta => Iglesia MDS Durán\n",
      "Ruta => Piscina Aliss\n"
     ]
    }
   ],
   "source": [
    "algprofundidad('piscinaaliss','Piscina Aliss','coopdetransportepresidenteeloyalfaro', 'Coop De Transporte PRESIDENTE Eloy Alfaro')"
   ]
  },
  {
   "cell_type": "code",
   "execution_count": null,
   "metadata": {},
   "outputs": [],
   "source": []
  }
 ],
 "metadata": {
  "kernelspec": {
   "display_name": "Python 3",
   "language": "python",
   "name": "python3"
  },
  "language_info": {
   "codemirror_mode": {
    "name": "ipython",
    "version": 3
   },
   "file_extension": ".py",
   "mimetype": "text/x-python",
   "name": "python",
   "nbconvert_exporter": "python",
   "pygments_lexer": "ipython3",
   "version": "3.8.3"
  }
 },
 "nbformat": 4,
 "nbformat_minor": 4
}
