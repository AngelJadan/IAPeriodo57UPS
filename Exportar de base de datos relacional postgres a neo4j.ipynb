{
 "cells": [
  {
   "cell_type": "markdown",
   "metadata": {},
   "source": [
    "## Universidad Politécnica Salesiana\n",
    "### Nombre: Angel Jadan\n",
    "### Fecha: 19/11/2020\n",
    "\n",
    "### Exportar una base de datos postgres a neo4j.\n",
    "\n",
    "#### Bases de datos realaciones.\n",
    "Una de las bases de datos más usadas hasta el día de hoy todavia sigue siendo las bases de datos relaciones, mucho mas en sistemas pequeños que no tienen muchos procesos y empresas que mantienen ciertas póliticas para un cambio o actualización.\n",
    "\n",
    "#### Base de datos no relacionales.\n",
    "Uno de los grandes avances técnologicos son las bases de datos no relacionales, que ya empresas grandes las estan incorporando, bases de datos como son Mongodb, Casandra, Neo4j, etc.\n",
    "\n",
    "#### Neo4j.\n",
    "Neo4j, es una de las bases de datos orientadas a grafos, que implementa varios algoritmos que nos ayuda para realizar algunos calculos que en una base de datos relacional se volveria complejo.\n",
    "\n",
    "Neo4j usa el lenguaje llamado Cyper, para el proceso de insercción, actualización, listado y eliminado de datos.\n"
   ]
  }
 ],
 "metadata": {
  "kernelspec": {
   "display_name": "Python 3",
   "language": "python",
   "name": "python3"
  },
  "language_info": {
   "codemirror_mode": {
    "name": "ipython",
    "version": 3
   },
   "file_extension": ".py",
   "mimetype": "text/x-python",
   "name": "python",
   "nbconvert_exporter": "python",
   "pygments_lexer": "ipython3",
   "version": "3.8.3"
  }
 },
 "nbformat": 4,
 "nbformat_minor": 4
}
